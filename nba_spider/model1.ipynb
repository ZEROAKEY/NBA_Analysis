{
 "cells": [
  {
   "cell_type": "code",
   "execution_count": 9,
   "metadata": {},
   "outputs": [
    {
     "name": "stdout",
     "output_type": "stream",
     "text": [
      "Failed to connect to the database: unable to open database file\n"
     ]
    },
    {
     "ename": "OperationalError",
     "evalue": "unable to open database file",
     "output_type": "error",
     "traceback": [
      "\u001b[1;31m---------------------------------------------------------------------------\u001b[0m",
      "\u001b[1;31mOperationalError\u001b[0m                          Traceback (most recent call last)",
      "Cell \u001b[1;32mIn[9], line 11\u001b[0m\n\u001b[0;32m      8\u001b[0m db \u001b[38;5;241m=\u001b[39m SQLiteDB(\u001b[38;5;124m'\u001b[39m\u001b[38;5;124mnba_springbootbatis/springbootbatis/src/main/resources/nba_total.db\u001b[39m\u001b[38;5;124m'\u001b[39m)\n\u001b[0;32m     10\u001b[0m     \u001b[38;5;66;03m# 连接数据库\u001b[39;00m\n\u001b[1;32m---> 11\u001b[0m db\u001b[38;5;241m.\u001b[39mconnect()\n\u001b[0;32m     13\u001b[0m     \u001b[38;5;66;03m# 查询比赛数据\u001b[39;00m\n\u001b[0;32m     14\u001b[0m query \u001b[38;5;241m=\u001b[39m \u001b[38;5;124m'''\u001b[39m\n\u001b[0;32m     15\u001b[0m \u001b[38;5;124m    SELECT date, leftName, leftGoal, rightName, rightGoal\u001b[39m\n\u001b[0;32m     16\u001b[0m \u001b[38;5;124m    FROM nba_schedule\u001b[39m\n\u001b[1;32m   (...)\u001b[0m\n\u001b[0;32m     20\u001b[0m \u001b[38;5;124m    ORDER BY date DESC\u001b[39m\n\u001b[0;32m     21\u001b[0m \u001b[38;5;124m    \u001b[39m\u001b[38;5;124m'''\u001b[39m\n",
      "File \u001b[1;32mc:\\code\\Project\\nba_spider\\SQLiteDB.py:18\u001b[0m, in \u001b[0;36mSQLiteDB.connect\u001b[1;34m(self)\u001b[0m\n\u001b[0;32m     14\u001b[0m \u001b[38;5;250m\u001b[39m\u001b[38;5;124;03m\"\"\"\u001b[39;00m\n\u001b[0;32m     15\u001b[0m \u001b[38;5;124;03m连接到 SQLite 数据库\u001b[39;00m\n\u001b[0;32m     16\u001b[0m \u001b[38;5;124;03m\"\"\"\u001b[39;00m\n\u001b[0;32m     17\u001b[0m \u001b[38;5;28;01mtry\u001b[39;00m:\n\u001b[1;32m---> 18\u001b[0m     \u001b[38;5;28mself\u001b[39m\u001b[38;5;241m.\u001b[39mconnection \u001b[38;5;241m=\u001b[39m sqlite3\u001b[38;5;241m.\u001b[39mconnect(\u001b[38;5;28mself\u001b[39m\u001b[38;5;241m.\u001b[39mdb_path)\n\u001b[0;32m     19\u001b[0m     \u001b[38;5;28mself\u001b[39m\u001b[38;5;241m.\u001b[39mcursor \u001b[38;5;241m=\u001b[39m \u001b[38;5;28mself\u001b[39m\u001b[38;5;241m.\u001b[39mconnection\u001b[38;5;241m.\u001b[39mcursor()\n\u001b[0;32m     20\u001b[0m     \u001b[38;5;28mprint\u001b[39m(\u001b[38;5;124mf\u001b[39m\u001b[38;5;124m\"\u001b[39m\u001b[38;5;124mConnected to SQLite database at \u001b[39m\u001b[38;5;132;01m{\u001b[39;00m\u001b[38;5;28mself\u001b[39m\u001b[38;5;241m.\u001b[39mdb_path\u001b[38;5;132;01m}\u001b[39;00m\u001b[38;5;124m\"\u001b[39m)\n",
      "\u001b[1;31mOperationalError\u001b[0m: unable to open database file"
     ]
    }
   ],
   "source": [
    "import numpy as np\n",
    "import sqlite3\n",
    "from tensorflow.keras.models import Sequential\n",
    "from tensorflow.keras.layers import Dense\n",
    "from sklearn.model_selection import train_test_split\n",
    "from SQLiteDB import SQLiteDB\n",
    "# 创建模拟数据\n",
    "db = SQLiteDB('C/code/Project/nba_spider/nba_total.db')\n",
    "\n",
    "    # 连接数据库\n",
    "db.connect()\n",
    "\n",
    "    # 查询比赛数据\n",
    "query = '''\n",
    "    SELECT date, leftName, leftGoal, rightName, rightGoal\n",
    "    FROM nba_schedule\n",
    "    WHERE leftGoal != 0 AND rightGoal != 0\n",
    "      AND leftName !='' AND rightName !=''\n",
    "      AND leftName != '中国男篮' AND rightName != '中国男篮'\n",
    "    ORDER BY date DESC\n",
    "    '''\n",
    "games = db.execute_query(query)\n",
    "\n",
    "for game in games:\n",
    "    print(game)\n",
    "\n",
    "# 断开连接\n",
    "db.disconnect()\n"
   ]
  },
  {
   "cell_type": "code",
   "execution_count": 2,
   "metadata": {},
   "outputs": [
    {
     "ename": "NameError",
     "evalue": "name 'pd' is not defined",
     "output_type": "error",
     "traceback": [
      "\u001b[1;31m---------------------------------------------------------------------------\u001b[0m",
      "\u001b[1;31mNameError\u001b[0m                                 Traceback (most recent call last)",
      "Cell \u001b[1;32mIn[2], line 1\u001b[0m\n\u001b[1;32m----> 1\u001b[0m df \u001b[38;5;241m=\u001b[39m pd\u001b[38;5;241m.\u001b[39mDataFrame(games)\n\u001b[0;32m      2\u001b[0m \u001b[38;5;66;03m# X 是输入特征，y 是回归目标\u001b[39;00m\n\u001b[0;32m      3\u001b[0m X \u001b[38;5;241m=\u001b[39m np\u001b[38;5;241m.\u001b[39mrandom\u001b[38;5;241m.\u001b[39mrand(\u001b[38;5;241m1000\u001b[39m, \u001b[38;5;241m10\u001b[39m)  \u001b[38;5;66;03m# 1000 个样本，每个样本有 10 个特征\u001b[39;00m\n",
      "\u001b[1;31mNameError\u001b[0m: name 'pd' is not defined"
     ]
    }
   ],
   "source": [
    "df = pd.DataFrame(games)\n",
    "# X 是输入特征，y 是回归目标\n",
    "X = np.random.rand(1000, 10)  # 1000 个样本，每个样本有 10 个特征\n",
    "y = np.random.rand(1000, 1)   # 1000 个样本，每个样本有 1 个目标变量\n",
    "\n",
    "# 切分训练集和测试集\n",
    "X_train, X_test, y_train, y_test = train_test_split(X, y, test_size=0.2, random_state=42)\n",
    "\n",
    "# 构建神经网络模型\n",
    "model = Sequential()\n",
    "\n",
    "# 第一层：输入层到第一个隐藏层，带有 64 个神经元，激活函数为 ReLU\n",
    "model.add(Dense(64, input_dim=X.shape[1], activation='relu'))\n",
    "\n",
    "# 第二层：第一个隐藏层到第二个隐藏层，带有 32 个神经元，激活函数为 ReLU\n",
    "model.add(Dense(32, activation='relu'))\n",
    "\n",
    "# 第三层：第二个隐藏层到输出层，带有 1 个神经元，用于回归任务（输出为连续值）\n",
    "model.add(Dense(1))\n",
    "\n",
    "# 编译模型，使用均方误差 (MSE) 作为损失函数，Adam 作为优化器\n",
    "model.compile(optimizer='adam', loss='mse')\n",
    "\n",
    "# 训练模型\n",
    "model.fit(X_train, y_train, epochs=100, batch_size=32, validation_data=(X_test, y_test))\n",
    "\n",
    "# 进行预测\n",
    "y_pred = model.predict(X_test)\n",
    "\n",
    "# 输出预测结果\n",
    "print(\"预测结果：\", y_pred[:5])  # 打印前5个预测结果"
   ]
  },
  {
   "cell_type": "code",
   "execution_count": null,
   "metadata": {},
   "outputs": [],
   "source": []
  }
 ],
 "metadata": {
  "kernelspec": {
   "display_name": "py3.12",
   "language": "python",
   "name": "python3"
  },
  "language_info": {
   "codemirror_mode": {
    "name": "ipython",
    "version": 3
   },
   "file_extension": ".py",
   "mimetype": "text/x-python",
   "name": "python",
   "nbconvert_exporter": "python",
   "pygments_lexer": "ipython3",
   "version": "3.12.4"
  }
 },
 "nbformat": 4,
 "nbformat_minor": 2
}
